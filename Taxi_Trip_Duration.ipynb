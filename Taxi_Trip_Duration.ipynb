{
 "cells": [
  {
   "cell_type": "markdown",
   "id": "621ef308",
   "metadata": {},
   "source": [
    "# New York City Taxi Trip Duration\n",
    "Соревнование на Kaggle - https://www.kaggle.com/c/nyc-taxi-trip-duration/overview. Нужно предсказать продолжительность поездки такси по следующим признакам:\n",
    "\n",
    "- id - идентификатор поездки\n",
    "- vendor_id - код провайдера, от которого пришла информация о поездке\n",
    "- pickup_datetime - время старта поездки\n",
    "- dropoff_datetime - время окончания поездки\n",
    "- passenger_count - число пассажиров (вводится водителем)\n",
    "- pickup_longitude - долгота точки посадки\n",
    "- pickup_latitude - широта точки посадки\n",
    "- dropoff_longitude - долгота точки высадки\n",
    "- dropoff_latitude - долгота точки высадки\n",
    "- store_and_fwd_flag - равно Y, если информация о поездке какое-то время хранилась в памяти таксометра из-за отсутствия связи; иначе принимает значение N\n",
    "- trip_duration - продолжительность поездки в секундах\n",
    "\n",
    "\n",
    "## Разведовочный анализ\n",
    "\n",
    "### Подготовка данных\n",
    "Подключаем необходимые библиотеки"
   ]
  },
  {
   "cell_type": "code",
   "execution_count": 1,
   "id": "637cc91e",
   "metadata": {},
   "outputs": [],
   "source": [
    "import pandas as pd\n",
    "import numpy as np\n",
    "import matplotlib.pyplot as plt\n",
    "import seaborn as sns\n",
    "import calendar"
   ]
  },
  {
   "cell_type": "markdown",
   "id": "b2b56539",
   "metadata": {},
   "source": [
    "Загружаем и просматриваем тренировочные и тестовые данные"
   ]
  },
  {
   "cell_type": "code",
   "execution_count": 2,
   "id": "84a29072",
   "metadata": {},
   "outputs": [],
   "source": [
    "data_train = pd.read_csv('../nyc-taxi-trip-duration/train.csv')\n",
    "data_test = pd.read_csv('../nyc-taxi-trip-duration/test.csv')"
   ]
  },
  {
   "cell_type": "code",
   "execution_count": 3,
   "id": "96acb57d",
   "metadata": {},
   "outputs": [
    {
     "data": {
      "text/html": [
       "<div>\n",
       "<style scoped>\n",
       "    .dataframe tbody tr th:only-of-type {\n",
       "        vertical-align: middle;\n",
       "    }\n",
       "\n",
       "    .dataframe tbody tr th {\n",
       "        vertical-align: top;\n",
       "    }\n",
       "\n",
       "    .dataframe thead th {\n",
       "        text-align: right;\n",
       "    }\n",
       "</style>\n",
       "<table border=\"1\" class=\"dataframe\">\n",
       "  <thead>\n",
       "    <tr style=\"text-align: right;\">\n",
       "      <th></th>\n",
       "      <th>id</th>\n",
       "      <th>vendor_id</th>\n",
       "      <th>pickup_datetime</th>\n",
       "      <th>dropoff_datetime</th>\n",
       "      <th>passenger_count</th>\n",
       "      <th>pickup_longitude</th>\n",
       "      <th>pickup_latitude</th>\n",
       "      <th>dropoff_longitude</th>\n",
       "      <th>dropoff_latitude</th>\n",
       "      <th>store_and_fwd_flag</th>\n",
       "      <th>trip_duration</th>\n",
       "    </tr>\n",
       "  </thead>\n",
       "  <tbody>\n",
       "    <tr>\n",
       "      <th>0</th>\n",
       "      <td>id2875421</td>\n",
       "      <td>2</td>\n",
       "      <td>2016-03-14 17:24:55</td>\n",
       "      <td>2016-03-14 17:32:30</td>\n",
       "      <td>1</td>\n",
       "      <td>-73.982155</td>\n",
       "      <td>40.767937</td>\n",
       "      <td>-73.964630</td>\n",
       "      <td>40.765602</td>\n",
       "      <td>N</td>\n",
       "      <td>455</td>\n",
       "    </tr>\n",
       "    <tr>\n",
       "      <th>1</th>\n",
       "      <td>id2377394</td>\n",
       "      <td>1</td>\n",
       "      <td>2016-06-12 00:43:35</td>\n",
       "      <td>2016-06-12 00:54:38</td>\n",
       "      <td>1</td>\n",
       "      <td>-73.980415</td>\n",
       "      <td>40.738564</td>\n",
       "      <td>-73.999481</td>\n",
       "      <td>40.731152</td>\n",
       "      <td>N</td>\n",
       "      <td>663</td>\n",
       "    </tr>\n",
       "    <tr>\n",
       "      <th>2</th>\n",
       "      <td>id3858529</td>\n",
       "      <td>2</td>\n",
       "      <td>2016-01-19 11:35:24</td>\n",
       "      <td>2016-01-19 12:10:48</td>\n",
       "      <td>1</td>\n",
       "      <td>-73.979027</td>\n",
       "      <td>40.763939</td>\n",
       "      <td>-74.005333</td>\n",
       "      <td>40.710087</td>\n",
       "      <td>N</td>\n",
       "      <td>2124</td>\n",
       "    </tr>\n",
       "    <tr>\n",
       "      <th>3</th>\n",
       "      <td>id3504673</td>\n",
       "      <td>2</td>\n",
       "      <td>2016-04-06 19:32:31</td>\n",
       "      <td>2016-04-06 19:39:40</td>\n",
       "      <td>1</td>\n",
       "      <td>-74.010040</td>\n",
       "      <td>40.719971</td>\n",
       "      <td>-74.012268</td>\n",
       "      <td>40.706718</td>\n",
       "      <td>N</td>\n",
       "      <td>429</td>\n",
       "    </tr>\n",
       "    <tr>\n",
       "      <th>4</th>\n",
       "      <td>id2181028</td>\n",
       "      <td>2</td>\n",
       "      <td>2016-03-26 13:30:55</td>\n",
       "      <td>2016-03-26 13:38:10</td>\n",
       "      <td>1</td>\n",
       "      <td>-73.973053</td>\n",
       "      <td>40.793209</td>\n",
       "      <td>-73.972923</td>\n",
       "      <td>40.782520</td>\n",
       "      <td>N</td>\n",
       "      <td>435</td>\n",
       "    </tr>\n",
       "  </tbody>\n",
       "</table>\n",
       "</div>"
      ],
      "text/plain": [
       "          id  vendor_id      pickup_datetime     dropoff_datetime  \\\n",
       "0  id2875421          2  2016-03-14 17:24:55  2016-03-14 17:32:30   \n",
       "1  id2377394          1  2016-06-12 00:43:35  2016-06-12 00:54:38   \n",
       "2  id3858529          2  2016-01-19 11:35:24  2016-01-19 12:10:48   \n",
       "3  id3504673          2  2016-04-06 19:32:31  2016-04-06 19:39:40   \n",
       "4  id2181028          2  2016-03-26 13:30:55  2016-03-26 13:38:10   \n",
       "\n",
       "   passenger_count  pickup_longitude  pickup_latitude  dropoff_longitude  \\\n",
       "0                1        -73.982155        40.767937         -73.964630   \n",
       "1                1        -73.980415        40.738564         -73.999481   \n",
       "2                1        -73.979027        40.763939         -74.005333   \n",
       "3                1        -74.010040        40.719971         -74.012268   \n",
       "4                1        -73.973053        40.793209         -73.972923   \n",
       "\n",
       "   dropoff_latitude store_and_fwd_flag  trip_duration  \n",
       "0         40.765602                  N            455  \n",
       "1         40.731152                  N            663  \n",
       "2         40.710087                  N           2124  \n",
       "3         40.706718                  N            429  \n",
       "4         40.782520                  N            435  "
      ]
     },
     "execution_count": 3,
     "metadata": {},
     "output_type": "execute_result"
    }
   ],
   "source": [
    "data_train.head()"
   ]
  },
  {
   "cell_type": "code",
   "execution_count": 4,
   "id": "bcea692a",
   "metadata": {},
   "outputs": [
    {
     "data": {
      "text/plain": [
       "(1458644, 11)"
      ]
     },
     "execution_count": 4,
     "metadata": {},
     "output_type": "execute_result"
    }
   ],
   "source": [
    "data_train.shape"
   ]
  },
  {
   "cell_type": "code",
   "execution_count": 5,
   "id": "a6d35f81",
   "metadata": {},
   "outputs": [
    {
     "data": {
      "text/html": [
       "<div>\n",
       "<style scoped>\n",
       "    .dataframe tbody tr th:only-of-type {\n",
       "        vertical-align: middle;\n",
       "    }\n",
       "\n",
       "    .dataframe tbody tr th {\n",
       "        vertical-align: top;\n",
       "    }\n",
       "\n",
       "    .dataframe thead th {\n",
       "        text-align: right;\n",
       "    }\n",
       "</style>\n",
       "<table border=\"1\" class=\"dataframe\">\n",
       "  <thead>\n",
       "    <tr style=\"text-align: right;\">\n",
       "      <th></th>\n",
       "      <th>id</th>\n",
       "      <th>vendor_id</th>\n",
       "      <th>pickup_datetime</th>\n",
       "      <th>passenger_count</th>\n",
       "      <th>pickup_longitude</th>\n",
       "      <th>pickup_latitude</th>\n",
       "      <th>dropoff_longitude</th>\n",
       "      <th>dropoff_latitude</th>\n",
       "      <th>store_and_fwd_flag</th>\n",
       "    </tr>\n",
       "  </thead>\n",
       "  <tbody>\n",
       "    <tr>\n",
       "      <th>0</th>\n",
       "      <td>id3004672</td>\n",
       "      <td>1</td>\n",
       "      <td>2016-06-30 23:59:58</td>\n",
       "      <td>1</td>\n",
       "      <td>-73.988129</td>\n",
       "      <td>40.732029</td>\n",
       "      <td>-73.990173</td>\n",
       "      <td>40.756680</td>\n",
       "      <td>N</td>\n",
       "    </tr>\n",
       "    <tr>\n",
       "      <th>1</th>\n",
       "      <td>id3505355</td>\n",
       "      <td>1</td>\n",
       "      <td>2016-06-30 23:59:53</td>\n",
       "      <td>1</td>\n",
       "      <td>-73.964203</td>\n",
       "      <td>40.679993</td>\n",
       "      <td>-73.959808</td>\n",
       "      <td>40.655403</td>\n",
       "      <td>N</td>\n",
       "    </tr>\n",
       "    <tr>\n",
       "      <th>2</th>\n",
       "      <td>id1217141</td>\n",
       "      <td>1</td>\n",
       "      <td>2016-06-30 23:59:47</td>\n",
       "      <td>1</td>\n",
       "      <td>-73.997437</td>\n",
       "      <td>40.737583</td>\n",
       "      <td>-73.986160</td>\n",
       "      <td>40.729523</td>\n",
       "      <td>N</td>\n",
       "    </tr>\n",
       "    <tr>\n",
       "      <th>3</th>\n",
       "      <td>id2150126</td>\n",
       "      <td>2</td>\n",
       "      <td>2016-06-30 23:59:41</td>\n",
       "      <td>1</td>\n",
       "      <td>-73.956070</td>\n",
       "      <td>40.771900</td>\n",
       "      <td>-73.986427</td>\n",
       "      <td>40.730469</td>\n",
       "      <td>N</td>\n",
       "    </tr>\n",
       "    <tr>\n",
       "      <th>4</th>\n",
       "      <td>id1598245</td>\n",
       "      <td>1</td>\n",
       "      <td>2016-06-30 23:59:33</td>\n",
       "      <td>1</td>\n",
       "      <td>-73.970215</td>\n",
       "      <td>40.761475</td>\n",
       "      <td>-73.961510</td>\n",
       "      <td>40.755890</td>\n",
       "      <td>N</td>\n",
       "    </tr>\n",
       "  </tbody>\n",
       "</table>\n",
       "</div>"
      ],
      "text/plain": [
       "          id  vendor_id      pickup_datetime  passenger_count  \\\n",
       "0  id3004672          1  2016-06-30 23:59:58                1   \n",
       "1  id3505355          1  2016-06-30 23:59:53                1   \n",
       "2  id1217141          1  2016-06-30 23:59:47                1   \n",
       "3  id2150126          2  2016-06-30 23:59:41                1   \n",
       "4  id1598245          1  2016-06-30 23:59:33                1   \n",
       "\n",
       "   pickup_longitude  pickup_latitude  dropoff_longitude  dropoff_latitude  \\\n",
       "0        -73.988129        40.732029         -73.990173         40.756680   \n",
       "1        -73.964203        40.679993         -73.959808         40.655403   \n",
       "2        -73.997437        40.737583         -73.986160         40.729523   \n",
       "3        -73.956070        40.771900         -73.986427         40.730469   \n",
       "4        -73.970215        40.761475         -73.961510         40.755890   \n",
       "\n",
       "  store_and_fwd_flag  \n",
       "0                  N  \n",
       "1                  N  \n",
       "2                  N  \n",
       "3                  N  \n",
       "4                  N  "
      ]
     },
     "execution_count": 5,
     "metadata": {},
     "output_type": "execute_result"
    }
   ],
   "source": [
    "data_test.head()"
   ]
  },
  {
   "cell_type": "code",
   "execution_count": 6,
   "id": "1e114616",
   "metadata": {},
   "outputs": [
    {
     "data": {
      "text/plain": [
       "(625134, 9)"
      ]
     },
     "execution_count": 6,
     "metadata": {},
     "output_type": "execute_result"
    }
   ],
   "source": [
    "data_test.shape"
   ]
  },
  {
   "cell_type": "markdown",
   "id": "5fab8152",
   "metadata": {},
   "source": [
    "Колонка dropoff_datetime отсутствует в тестовой выборке, значит в будущем нам следует ее удалить."
   ]
  },
  {
   "cell_type": "markdown",
   "id": "f55253d9",
   "metadata": {},
   "source": [
    "Проверям, есть ли пропущенные значения в данных:"
   ]
  },
  {
   "cell_type": "code",
   "execution_count": 7,
   "id": "733cf6c6",
   "metadata": {},
   "outputs": [
    {
     "data": {
      "text/plain": [
       "id                    0\n",
       "vendor_id             0\n",
       "pickup_datetime       0\n",
       "dropoff_datetime      0\n",
       "passenger_count       0\n",
       "pickup_longitude      0\n",
       "pickup_latitude       0\n",
       "dropoff_longitude     0\n",
       "dropoff_latitude      0\n",
       "store_and_fwd_flag    0\n",
       "trip_duration         0\n",
       "dtype: int64"
      ]
     },
     "execution_count": 7,
     "metadata": {},
     "output_type": "execute_result"
    }
   ],
   "source": [
    "data_train.isnull().sum()"
   ]
  },
  {
   "cell_type": "markdown",
   "id": "a9966b50",
   "metadata": {},
   "source": [
    "Проверяеим типы переменных: "
   ]
  },
  {
   "cell_type": "code",
   "execution_count": 8,
   "id": "683660e6",
   "metadata": {},
   "outputs": [
    {
     "data": {
      "text/plain": [
       "id                     object\n",
       "vendor_id               int64\n",
       "pickup_datetime        object\n",
       "dropoff_datetime       object\n",
       "passenger_count         int64\n",
       "pickup_longitude      float64\n",
       "pickup_latitude       float64\n",
       "dropoff_longitude     float64\n",
       "dropoff_latitude      float64\n",
       "store_and_fwd_flag     object\n",
       "trip_duration           int64\n",
       "dtype: object"
      ]
     },
     "execution_count": 8,
     "metadata": {},
     "output_type": "execute_result"
    }
   ],
   "source": [
    "data_train.dtypes"
   ]
  },
  {
   "cell_type": "markdown",
   "id": "3e85d706",
   "metadata": {},
   "source": [
    "Столбцы с датами были отнесены к типу object. Для удобства будет лучше преобразовать их в тип datetime:"
   ]
  },
  {
   "cell_type": "code",
   "execution_count": 9,
   "id": "00347cad",
   "metadata": {},
   "outputs": [],
   "source": [
    "data_train['pickup_datetime'] = pd.to_datetime(data_train['pickup_datetime'])\n",
    "data_train['dropoff_datetime'] = pd.to_datetime(data_train['dropoff_datetime'])"
   ]
  },
  {
   "cell_type": "markdown",
   "id": "d9bbc07e",
   "metadata": {},
   "source": [
    "### Целевая переменная"
   ]
  },
  {
   "cell_type": "markdown",
   "id": "5a5066b9",
   "metadata": {},
   "source": [
    "Посмотрим теперь на целевую переменную, а именно на колонку trip_duration, построим ее распределение."
   ]
  },
  {
   "cell_type": "code",
   "execution_count": 10,
   "id": "6126cdc8",
   "metadata": {},
   "outputs": [
    {
     "data": {
      "image/png": "[encoded data removed]",
      "text/plain": [
       "<Figure size 432x288 with 1 Axes>"
      ]
     },
     "metadata": {
      "needs_background": "light"
     },
     "output_type": "display_data"
    }
   ],
   "source": [
    "plt.hist(data_train['trip_duration'].values, bins = 100)\n",
    "plt.xlabel(\"trip duration\")\n",
    "plt.ylabel(\"number of records\")\n",
    "plt.show()"
   ]
  },
  {
   "cell_type": "markdown",
   "id": "e375c8c6",
   "metadata": {},
   "source": [
    "Получилось не очень информативно, поробуем логарифмировать целевую пременную и вновь построить распределение. Используем для этого np.log1p логарифмирующий следующим образом: log(1 + x)"
   ]
  },
  {
   "cell_type": "code",
   "execution_count": 11,
   "id": "263e2ee6",
   "metadata": {},
   "outputs": [
    {
     "data": {
      "image/png": "[encoded data removed]",
      "text/plain": [
       "<Figure size 432x288 with 1 Axes>"
      ]
     },
     "metadata": {
      "needs_background": "light"
     },
     "output_type": "display_data"
    }
   ],
   "source": [
    "data_train['log_trip_duration'] = np.log1p(data_train['trip_duration'].values)\n",
    "plt.hist(data_train['log_trip_duration'].values, bins = 100)\n",
    "plt.xlabel(\"log(trip duration)\")\n",
    "plt.ylabel(\"number of records\")\n",
    "plt.show()"
   ]
  },
  {
   "cell_type": "markdown",
   "id": "371e7eca",
   "metadata": {},
   "source": [
    "В основном, длительность всех поездок варьируется в следующих пределах:"
   ]
  },
  {
   "cell_type": "code",
   "execution_count": 12,
   "id": "2b4960b8",
   "metadata": {},
   "outputs": [
    {
     "name": "stdout",
     "output_type": "stream",
     "text": [
      "from 90.01713130052181 to 8103.083927575384 in seconds\n",
      "from 1.0 to 135.0 in minutes\n"
     ]
    }
   ],
   "source": [
    "print(\"from {} to {} in seconds\".format(np.exp(4.5), np.exp(9)))\n",
    "print(\"from {} to {} in minutes\".format(np.exp(4.5) // 60, np.exp(9) // 60))"
   ]
  },
  {
   "cell_type": "markdown",
   "id": "f2c12312",
   "metadata": {},
   "source": [
    "На верхнем графике между значениями 10 и 12 на оси абсцисс видно, что есть отдельный блок заказов с нетипично большой длительностью нужно присмотреться к нему повниметельнее."
   ]
  },
  {
   "cell_type": "code",
   "execution_count": 13,
   "id": "55e9b079",
   "metadata": {},
   "outputs": [
    {
     "name": "stdout",
     "output_type": "stream",
     "text": [
      "10 on log(trip_duration) is 6.0 hours\n"
     ]
    }
   ],
   "source": [
    "lower_border = np.exp(10) // 3600\n",
    "print(\"10 on log(trip_duration) is\",(np.exp(10) -1) // 3600, \"hours\")"
   ]
  },
  {
   "cell_type": "code",
   "execution_count": 14,
   "id": "54e1da68",
   "metadata": {},
   "outputs": [
    {
     "name": "stdout",
     "output_type": "stream",
     "text": [
      "11 on log(trip_duration) is 16.0 hours\n"
     ]
    }
   ],
   "source": [
    "print(\"11 on log(trip_duration) is\",(np.exp(11)-1) // 3600, \"hours\")"
   ]
  },
  {
   "cell_type": "code",
   "execution_count": 15,
   "id": "83ac8912",
   "metadata": {},
   "outputs": [
    {
     "data": {
      "text/plain": [
       "979"
      ]
     },
     "execution_count": 15,
     "metadata": {},
     "output_type": "execute_result"
    }
   ],
   "source": [
    "data_train['trip_duration'].max() // 3600"
   ]
  },
  {
   "cell_type": "markdown",
   "id": "c57a2849",
   "metadata": {},
   "source": [
    "Поездка длительностью 979 часов точно является выбросом. Посмотрим сколько всего таких выбросов присутствует в нашей выборке."
   ]
  },
  {
   "cell_type": "code",
   "execution_count": 16,
   "id": "c21e2430",
   "metadata": {},
   "outputs": [
    {
     "name": "stdout",
     "output_type": "stream",
     "text": [
      "number of trips that are longer than 6 hours =  2061\n"
     ]
    }
   ],
   "source": [
    "data_train['trip_duration_in_hours'] = data_train['trip_duration'] // 3600\n",
    "big_duration = data_train[data_train['trip_duration_in_hours'] >= 6]['trip_duration_in_hours']\n",
    "print(\"number of trips that are longer than 6 hours = \", big_duration.count())"
   ]
  },
  {
   "cell_type": "code",
   "execution_count": 17,
   "id": "d34f3a3a",
   "metadata": {},
   "outputs": [
    {
     "data": {
      "text/plain": [
       "array([ 23,  22,  10,  11,  13,  12,  17,  14,   6,  18,  21,  16,   7,\n",
       "         8,  20,  15, 538,  19,   9, 569, 618, 979], dtype=int64)"
      ]
     },
     "execution_count": 17,
     "metadata": {},
     "output_type": "execute_result"
    }
   ],
   "source": [
    "big_duration.unique()"
   ]
  },
  {
   "cell_type": "markdown",
   "id": "dc381716",
   "metadata": {},
   "source": [
    "Поездки длительностью 538, 569, 618 часов тоже записываем как выбросы"
   ]
  },
  {
   "cell_type": "markdown",
   "id": "90197a3e",
   "metadata": {},
   "source": [
    "### Работа с pickup_datetime переменной"
   ]
  },
  {
   "cell_type": "markdown",
   "id": "7464c732",
   "metadata": {},
   "source": [
    "Добавим следующие признаки в датасет\n",
    "\n",
    "- pickup_date - дата без времени\n",
    "- pickup_day - число месяца\n",
    "- pickup_day_of_the_week - день недели\n",
    "- pickup_month - месяц\n",
    "- pickup_hour - час начала поездки"
   ]
  },
  {
   "cell_type": "code",
   "execution_count": 18,
   "id": "7d29f6be",
   "metadata": {},
   "outputs": [],
   "source": [
    "data_train['pickup_date'] = data_train['pickup_datetime'].dt.date\n",
    "data_train['pickup_day'] = data_train['pickup_datetime'].apply(lambda x: x.day)\n",
    "data_train['pickup_day_of_the_week'] = data_train['pickup_datetime'].apply(lambda x: calendar.day_name[x.weekday()])\n",
    "data_train['pickup_month'] = data_train['pickup_datetime'].apply(lambda x: x.month)\n",
    "data_train['pickup_hour'] = data_train['pickup_datetime'].apply(lambda x: x.hour)"
   ]
  },
  {
   "cell_type": "markdown",
   "id": "f31ef00b",
   "metadata": {},
   "source": [
    "Посмотрим на количество поездок в различные дни месяца"
   ]
  },
  {
   "cell_type": "code",
   "execution_count": 19,
   "id": "92b94647",
   "metadata": {},
   "outputs": [
    {
     "data": {
      "text/plain": [
       "<AxesSubplot:xlabel='pickup_day', ylabel='count'>"
      ]
     },
     "execution_count": 19,
     "metadata": {},
     "output_type": "execute_result"
    },
    {
     "data": {
      "image/png": "[encoded data removed]",
      "text/plain": [
       "<Figure size 504x360 with 1 Axes>"
      ]
     },
     "metadata": {
      "needs_background": "light"
     },
     "output_type": "display_data"
    }
   ],
   "source": [
    "plt.figure(figsize = (7,5))\n",
    "sns.countplot(x = 'pickup_day', data = data_train)"
   ]
  },
  {
   "cell_type": "markdown",
   "id": "d3429ec6",
   "metadata": {},
   "source": [
    "Рассмотрим теперь количество поедок на всем временном интервале представленном в датасете"
   ]
  },
  {
   "cell_type": "code",
   "execution_count": 20,
   "id": "d5e1de0a",
   "metadata": {},
   "outputs": [
    {
     "data": {
      "image/png": "[encoded data removed]",
      "text/plain": [
       "<Figure size 1152x720 with 1 Axes>"
      ]
     },
     "metadata": {
      "needs_background": "light"
     },
     "output_type": "display_data"
    }
   ],
   "source": [
    "plt.figure(figsize = (16,10))\n",
    "plt.plot(data_train.groupby('pickup_date').count()[['id']], 'o-')\n",
    "plt.xlabel('number_of_records')\n",
    "plt.ylabel('time')\n",
    "plt.show()"
   ]
  },
  {
   "cell_type": "markdown",
   "id": "9e770edd",
   "metadata": {},
   "source": [
    "На графике видно что есть период с слишком маленьким количеством заказов. Вычислим время, когда это случилось и посмотрим, что могло повлиять на такой итог"
   ]
  },
  {
   "cell_type": "code",
   "execution_count": 21,
   "id": "968dfc62",
   "metadata": {},
   "outputs": [],
   "source": [
    "df = data_train.groupby('pickup_date').count()[['id']].reset_index()"
   ]
  },
  {
   "cell_type": "code",
   "execution_count": 22,
   "id": "536de7b0",
   "metadata": {},
   "outputs": [
    {
     "data": {
      "text/html": [
       "<div>\n",
       "<style scoped>\n",
       "    .dataframe tbody tr th:only-of-type {\n",
       "        vertical-align: middle;\n",
       "    }\n",
       "\n",
       "    .dataframe tbody tr th {\n",
       "        vertical-align: top;\n",
       "    }\n",
       "\n",
       "    .dataframe thead th {\n",
       "        text-align: right;\n",
       "    }\n",
       "</style>\n",
       "<table border=\"1\" class=\"dataframe\">\n",
       "  <thead>\n",
       "    <tr style=\"text-align: right;\">\n",
       "      <th></th>\n",
       "      <th>pickup_date</th>\n",
       "      <th>id</th>\n",
       "    </tr>\n",
       "  </thead>\n",
       "  <tbody>\n",
       "    <tr>\n",
       "      <th>22</th>\n",
       "      <td>2016-01-23</td>\n",
       "      <td>1648</td>\n",
       "    </tr>\n",
       "    <tr>\n",
       "      <th>23</th>\n",
       "      <td>2016-01-24</td>\n",
       "      <td>3383</td>\n",
       "    </tr>\n",
       "    <tr>\n",
       "      <th>150</th>\n",
       "      <td>2016-05-30</td>\n",
       "      <td>5570</td>\n",
       "    </tr>\n",
       "    <tr>\n",
       "      <th>24</th>\n",
       "      <td>2016-01-25</td>\n",
       "      <td>6084</td>\n",
       "    </tr>\n",
       "    <tr>\n",
       "      <th>2</th>\n",
       "      <td>2016-01-03</td>\n",
       "      <td>6353</td>\n",
       "    </tr>\n",
       "    <tr>\n",
       "      <th>149</th>\n",
       "      <td>2016-05-29</td>\n",
       "      <td>6372</td>\n",
       "    </tr>\n",
       "    <tr>\n",
       "      <th>1</th>\n",
       "      <td>2016-01-02</td>\n",
       "      <td>6512</td>\n",
       "    </tr>\n",
       "    <tr>\n",
       "      <th>3</th>\n",
       "      <td>2016-01-04</td>\n",
       "      <td>6725</td>\n",
       "    </tr>\n",
       "    <tr>\n",
       "      <th>171</th>\n",
       "      <td>2016-06-20</td>\n",
       "      <td>6910</td>\n",
       "    </tr>\n",
       "    <tr>\n",
       "      <th>25</th>\n",
       "      <td>2016-01-26</td>\n",
       "      <td>6941</td>\n",
       "    </tr>\n",
       "  </tbody>\n",
       "</table>\n",
       "</div>"
      ],
      "text/plain": [
       "    pickup_date    id\n",
       "22   2016-01-23  1648\n",
       "23   2016-01-24  3383\n",
       "150  2016-05-30  5570\n",
       "24   2016-01-25  6084\n",
       "2    2016-01-03  6353\n",
       "149  2016-05-29  6372\n",
       "1    2016-01-02  6512\n",
       "3    2016-01-04  6725\n",
       "171  2016-06-20  6910\n",
       "25   2016-01-26  6941"
      ]
     },
     "execution_count": 22,
     "metadata": {},
     "output_type": "execute_result"
    }
   ],
   "source": [
    "df.sort_values(by = ['id'], ascending = True)[:10]"
   ]
  },
  {
   "cell_type": "markdown",
   "id": "c6dac103",
   "metadata": {},
   "source": [
    "Самое низкое количество заказов пришлось на 23 и 24 января 2016 года. Как раз именно эти дни выделяются на графике сверху. В период с 23 по 24 по данным Википедии был введен запрет на передвижение по городу из-за мощнейшей снежной бури - https://en.wikipedia.org/wiki/January_2016_United_States_blizzard\n",
    "\n",
    "Количество поездок по дням недели"
   ]
  },
  {
   "cell_type": "code",
   "execution_count": 23,
   "id": "6899cc53",
   "metadata": {},
   "outputs": [
    {
     "data": {
      "text/plain": [
       "<AxesSubplot:xlabel='pickup_day_of_the_week', ylabel='count'>"
      ]
     },
     "execution_count": 23,
     "metadata": {},
     "output_type": "execute_result"
    },
    {
     "data": {
      "image/png": "[encoded data removed]",
      "text/plain": [
       "<Figure size 720x432 with 1 Axes>"
      ]
     },
     "metadata": {
      "needs_background": "light"
     },
     "output_type": "display_data"
    }
   ],
   "source": [
    "plt.figure(figsize = (10,6))\n",
    "sns.countplot(x = 'pickup_day_of_the_week', data = data_train, order = ['Monday', 'Tuesday', 'Wednesday', 'Thursday', 'Friday', 'Saturday', 'Sunday'])"
   ]
  },
  {
   "cell_type": "markdown",
   "id": "661d5cce",
   "metadata": {},
   "source": [
    "Средняя длина поездки по дням недели"
   ]
  },
  {
   "cell_type": "code",
   "execution_count": 24,
   "id": "cfe6adba",
   "metadata": {},
   "outputs": [
    {
     "data": {
      "text/plain": [
       "<seaborn.axisgrid.FacetGrid at 0x20a120a3be0>"
      ]
     },
     "execution_count": 24,
     "metadata": {},
     "output_type": "execute_result"
    },
    {
     "data": {
      "image/png": "[encoded data removed]",
      "text/plain": [
       "<Figure size 432x432 with 1 Axes>"
      ]
     },
     "metadata": {
      "needs_background": "light"
     },
     "output_type": "display_data"
    }
   ],
   "source": [
    "avg_trip_duration = data_train.groupby(['pickup_day_of_the_week'])['trip_duration'].mean().reset_index()\n",
    "avg_trip_duration.rename(columns = {'trip_duration' : 'avg_trip_duration'}, inplace = True)\n",
    "sns.catplot(x = 'pickup_day_of_the_week', y = 'avg_trip_duration', data = avg_trip_duration, height = 6, kind = 'bar', order = ['Monday', 'Tuesday', 'Wednesday', 'Thursday', 'Friday', 'Saturday', 'Sunday'])"
   ]
  },
  {
   "cell_type": "code",
   "execution_count": 25,
   "id": "8dee4088",
   "metadata": {},
   "outputs": [
    {
     "data": {
      "text/plain": [
       "<seaborn.axisgrid.FacetGrid at 0x20a0215f370>"
      ]
     },
     "execution_count": 25,
     "metadata": {},
     "output_type": "execute_result"
    },
    {
     "data": {
      "image/png": "[encoded data removed]",
      "text/plain": [
       "<Figure size 360x360 with 1 Axes>"
      ]
     },
     "metadata": {
      "needs_background": "light"
     },
     "output_type": "display_data"
    }
   ],
   "source": [
    "avg_trip_duration_hours = data_train.groupby(['pickup_hour'])['trip_duration'].mean().reset_index()\n",
    "avg_trip_duration_hours.rename(columns = {'trip_duration': 'avg_trip_duration'}, inplace = True)\n",
    "sns.catplot(x = 'pickup_hour', y = 'avg_trip_duration', data = avg_trip_duration_hours, kind = 'bar')"
   ]
  },
  {
   "cell_type": "markdown",
   "id": "eaa9ae70",
   "metadata": {},
   "source": [
    "## Обучение на необработанных данных и константные предположения"
   ]
  },
  {
   "cell_type": "code",
   "execution_count": 26,
   "id": "a24af940",
   "metadata": {},
   "outputs": [],
   "source": [
    "data_train = pd.read_csv('../nyc-taxi-trip-duration/train.csv')"
   ]
  },
  {
   "cell_type": "markdown",
   "id": "ea1196a6",
   "metadata": {},
   "source": [
    "Попробуем обучиться на необработанных данных без выделения дополнительных признаков. Предсказывать будем логарифмированную длительность поездки. Чтобы получить первоначальную длительность необходимо будет сделать обратное преобразование."
   ]
  },
  {
   "cell_type": "code",
   "execution_count": 27,
   "id": "5a1c4955",
   "metadata": {},
   "outputs": [],
   "source": [
    "y = data_train['trip_duration'].apply(lambda x: np.log1p(x))\n",
    "y1 = data_train['trip_duration']\n",
    "data_train.drop(columns = ['trip_duration', 'dropoff_datetime', 'id', 'pickup_datetime'], inplace = True)"
   ]
  },
  {
   "cell_type": "code",
   "execution_count": 28,
   "id": "47e34790",
   "metadata": {},
   "outputs": [],
   "source": [
    "from sklearn.linear_model import Ridge, Lasso, LinearRegression\n",
    "from sklearn.model_selection import train_test_split\n",
    "from sklearn.preprocessing import StandardScaler, OneHotEncoder\n",
    "from sklearn.compose import ColumnTransformer, make_column_transformer\n",
    "from sklearn.pipeline import make_pipeline, Pipeline\n",
    "from sklearn.metrics import mean_squared_error, mean_absolute_error"
   ]
  },
  {
   "cell_type": "code",
   "execution_count": 29,
   "id": "444b17a9",
   "metadata": {},
   "outputs": [
    {
     "data": {
      "text/plain": [
       "vendor_id               int64\n",
       "passenger_count         int64\n",
       "pickup_longitude      float64\n",
       "pickup_latitude       float64\n",
       "dropoff_longitude     float64\n",
       "dropoff_latitude      float64\n",
       "store_and_fwd_flag     object\n",
       "dtype: object"
      ]
     },
     "execution_count": 29,
     "metadata": {},
     "output_type": "execute_result"
    }
   ],
   "source": [
    "data_train.dtypes"
   ]
  },
  {
   "cell_type": "markdown",
   "id": "ab6d3e8e",
   "metadata": {},
   "source": [
    "Выделим численные и категориальные признаки"
   ]
  },
  {
   "cell_type": "code",
   "execution_count": 30,
   "id": "e0577938",
   "metadata": {},
   "outputs": [],
   "source": [
    "numeric_features = list(data_train.select_dtypes(include = ['int64', 'float64']).columns)\n",
    "categorical_features = list(data_train.select_dtypes(include = ['object']).columns)"
   ]
  },
  {
   "cell_type": "code",
   "execution_count": 31,
   "id": "797aba70",
   "metadata": {},
   "outputs": [],
   "source": [
    "x_train, x_test, y_train, y_test = train_test_split(data_train, y, train_size = 0.7, random_state = 10)"
   ]
  },
  {
   "cell_type": "code",
   "execution_count": 32,
   "id": "2569cf1e",
   "metadata": {},
   "outputs": [
    {
     "data": {
      "text/plain": [
       "array([[ 1.        ,  0.        ,  0.93018561, ..., -0.60313336,\n",
       "        -0.41221431, -0.68758014],\n",
       "       [ 1.        ,  0.        , -1.07505426, ...,  0.84829264,\n",
       "        -0.68350565, -0.11660056],\n",
       "       [ 1.        ,  0.        ,  0.93018561, ..., -0.9765934 ,\n",
       "        -0.8381162 , -0.99443383],\n",
       "       ...,\n",
       "       [ 1.        ,  0.        , -1.07505426, ..., -0.51914379,\n",
       "        -0.39945766, -0.17155149],\n",
       "       [ 1.        ,  0.        ,  0.93018561, ...,  0.79665284,\n",
       "        -0.40524067, -0.04815103],\n",
       "       [ 1.        ,  0.        , -1.07505426, ..., -1.45536988,\n",
       "         0.02661432, -0.0511271 ]])"
      ]
     },
     "execution_count": 32,
     "metadata": {},
     "output_type": "execute_result"
    }
   ],
   "source": [
    "column_transformer = make_column_transformer((OneHotEncoder(), categorical_features), (StandardScaler(), numeric_features))\n",
    "column_transformer.fit_transform(x_train)\n",
    "column_transformer.fit_transform(x_test)"
   ]
  },
  {
   "cell_type": "code",
   "execution_count": 33,
   "id": "5b44a128",
   "metadata": {},
   "outputs": [
    {
     "name": "stdout",
     "output_type": "stream",
     "text": [
      "LinearRegression()\n",
      "mse = 0.6051\n",
      "rmse = 0.7779\n",
      "mae = 0.5892\n",
      "Lasso()\n",
      "mse = 0.6309\n",
      "rmse = 0.7943\n",
      "mae = 0.6049\n",
      "Ridge()\n",
      "mse = 0.6051\n",
      "rmse = 0.7779\n",
      "mae = 0.5892\n"
     ]
    }
   ],
   "source": [
    "for model in [LinearRegression(), Lasso(), Ridge()]:\n",
    "    pipe = make_pipeline(column_transformer, model)\n",
    "    pipe.fit(x_train, y_train)\n",
    "    y_pred = pipe.predict(x_test)\n",
    "    print(model)\n",
    "    print('mse = %.4f' %mean_squared_error(y_test, y_pred))\n",
    "    print('rmse = %.4f' %mean_squared_error(y_test, y_pred, squared = False))\n",
    "    print('mae = %.4f' %mean_absolute_error(y_test, y_pred))"
   ]
  },
  {
   "cell_type": "markdown",
   "id": "66915978",
   "metadata": {},
   "source": [
    "Ниже предсказанием является среднее значение целевой переменной"
   ]
  },
  {
   "cell_type": "code",
   "execution_count": 34,
   "id": "0039faa0",
   "metadata": {},
   "outputs": [
    {
     "data": {
      "text/plain": [
       "0.6049636530936547"
      ]
     },
     "execution_count": 34,
     "metadata": {},
     "output_type": "execute_result"
    }
   ],
   "source": [
    "mean_absolute_error(y, np.median(y) * np.ones(y.shape))"
   ]
  },
  {
   "cell_type": "code",
   "execution_count": 35,
   "id": "f7d6cdff",
   "metadata": {},
   "outputs": [
    {
     "data": {
      "text/plain": [
       "0.6341205987731969"
      ]
     },
     "execution_count": 35,
     "metadata": {},
     "output_type": "execute_result"
    }
   ],
   "source": [
    "mean_squared_error(y, np.median(y) * np.ones(y.shape))"
   ]
  },
  {
   "cell_type": "code",
   "execution_count": 36,
   "id": "97e78b0a",
   "metadata": {},
   "outputs": [
    {
     "data": {
      "text/plain": [
       "0.7963168959485897"
      ]
     },
     "execution_count": 36,
     "metadata": {},
     "output_type": "execute_result"
    }
   ],
   "source": [
    "mean_squared_error(y, np.median(y) * np.ones(y.shape), squared = False)"
   ]
  },
  {
   "cell_type": "markdown",
   "id": "507215ea",
   "metadata": {},
   "source": [
    "Примем во внимание факт, что MSE зависит от выбросов, которых в выборке большое количество. Поэтому если обратить внимание только на MAE модель с константным предположением будет ошибаться в среднем на 9.5 минут"
   ]
  },
  {
   "cell_type": "code",
   "execution_count": 37,
   "id": "c4ff98c4",
   "metadata": {},
   "outputs": [
    {
     "data": {
      "text/plain": [
       "566.742495770044"
      ]
     },
     "execution_count": 37,
     "metadata": {},
     "output_type": "execute_result"
    }
   ],
   "source": [
    "mean_absolute_error(y1, np.median(y1) * np.ones(y1.shape))"
   ]
  },
  {
   "cell_type": "code",
   "execution_count": 38,
   "id": "c609a069",
   "metadata": {},
   "outputs": [
    {
     "data": {
      "text/plain": [
       "27519173.91563466"
      ]
     },
     "execution_count": 38,
     "metadata": {},
     "output_type": "execute_result"
    }
   ],
   "source": [
    "mean_squared_error(y1, np.median(y1) * np.ones(y1.shape))"
   ]
  },
  {
   "cell_type": "markdown",
   "id": "f065555a",
   "metadata": {},
   "source": [
    "rmse ошибка = 87.5 минутам"
   ]
  },
  {
   "cell_type": "code",
   "execution_count": 39,
   "id": "cda3396e",
   "metadata": {},
   "outputs": [
    {
     "data": {
      "text/plain": [
       "5245.872083422799"
      ]
     },
     "execution_count": 39,
     "metadata": {},
     "output_type": "execute_result"
    }
   ],
   "source": [
    "mean_squared_error(y1, np.median(y1) * np.ones(y1.shape), squared = False)"
   ]
  },
  {
   "cell_type": "markdown",
   "id": "0ae09cb5",
   "metadata": {},
   "source": [
    "## Обучение на новых признаках\n",
    "### Функции предобработки и выделения признаков"
   ]
  },
  {
   "cell_type": "markdown",
   "id": "3275b928",
   "metadata": {},
   "source": [
    "Функция возвращает датафрейм без признаков trip_duration, dropoff_datetime, id и логарифмированную целевую переменную"
   ]
  },
  {
   "cell_type": "code",
   "execution_count": 40,
   "id": "bc415d2d",
   "metadata": {},
   "outputs": [],
   "source": [
    "def first_preprocessing(df):\n",
    "    df = df.copy()\n",
    "    \n",
    "    df['pickup_datetime'] = pd.to_datetime(df['pickup_datetime'])\n",
    "    y = df['trip_duration'].apply(lambda x: np.log1p(x))\n",
    "    df.drop(columns = ['trip_duration', 'dropoff_datetime', 'id'], inplace = True)\n",
    "    \n",
    "    return df, y"
   ]
  },
  {
   "cell_type": "markdown",
   "id": "41911a4e",
   "metadata": {},
   "source": [
    "Возвращаяет численные и вещественные признаки"
   ]
  },
  {
   "cell_type": "code",
   "execution_count": 41,
   "id": "82bcd5e8",
   "metadata": {},
   "outputs": [],
   "source": [
    "def get_numeric_categorical_features(df):\n",
    "    numeric_features = list(df.select_dtypes(include = ['int64', 'float64']).columns)\n",
    "    categorical_features = list(df.select_dtypes(include = ['object']).columns)\n",
    "    return numeric_features, categorical_features"
   ]
  },
  {
   "cell_type": "markdown",
   "id": "0f9a9c15",
   "metadata": {},
   "source": [
    "Возвращает новый датафрейм с логарифмированным расстоянием на сфере"
   ]
  },
  {
   "cell_type": "code",
   "execution_count": 42,
   "id": "4c684d73",
   "metadata": {},
   "outputs": [],
   "source": [
    "def distance(df):\n",
    "    df = df.copy()\n",
    "    lat1 = df['pickup_latitude'].values\n",
    "    lng1 = df['pickup_longitude'].values\n",
    "    lat2 = df['dropoff_latitude'].values\n",
    "    lng2 = df['dropoff_longitude'].values\n",
    "    \n",
    "    lat1, lng1, lat2, lng2 = map(np.radians, (lat1, lng1, lat2, lng2))\n",
    "    AVG_EARTH_RADIUS = 6371  # in km\n",
    "    lat = lat2 - lat1\n",
    "    lng = lng2 - lng1\n",
    "    d = np.sin(lat * 0.5) ** 2 + np.cos(lat1) * np.cos(lat2) * np.sin(lng * 0.5) ** 2\n",
    "    df['distance'] = 2 * AVG_EARTH_RADIUS * np.arcsin(np.sqrt(d))\n",
    "    df['distance'] = df['distance'].apply(lambda x: np.log1p(x)) \n",
    "    df.drop(columns = ['pickup_latitude', 'pickup_longitude', 'dropoff_latitude', 'dropoff_longitude'], inplace = True)\n",
    "    return df"
   ]
  },
  {
   "cell_type": "markdown",
   "id": "e970db2c",
   "metadata": {},
   "source": [
    "Возвращает датафрейм с признаком - день недели"
   ]
  },
  {
   "cell_type": "code",
   "execution_count": 43,
   "id": "38141818",
   "metadata": {},
   "outputs": [],
   "source": [
    "def day_of_week(df):\n",
    "    df = df.copy()\n",
    "    \n",
    "    tmp = df['pickup_datetime'].dt.date\n",
    "    df['pickup_day_of_the_week'] = tmp.apply(lambda x: calendar.day_name[x.weekday()])\n",
    "    \n",
    "    return df"
   ]
  },
  {
   "cell_type": "markdown",
   "id": "43b6a220",
   "metadata": {},
   "source": [
    "Возвращает датафрейм с признаком - день месяца"
   ]
  },
  {
   "cell_type": "code",
   "execution_count": 44,
   "id": "cab740b7",
   "metadata": {},
   "outputs": [],
   "source": [
    "def day_of_month(df):\n",
    "    df = df.copy()\n",
    "    \n",
    "    df['pickup_day'] = data_train['pickup_datetime'].apply(lambda x: x.day)\n",
    "    \n",
    "    return df"
   ]
  },
  {
   "cell_type": "markdown",
   "id": "99bafd03",
   "metadata": {},
   "source": [
    "Возвращает датафрейм с признаком - чило месяца"
   ]
  },
  {
   "cell_type": "code",
   "execution_count": 45,
   "id": "567cc4fb",
   "metadata": {},
   "outputs": [],
   "source": [
    "def month(df):\n",
    "    df = df.copy()\n",
    "    \n",
    "    df['pickup_month'] = data_train['pickup_datetime'].apply(lambda x: x.month)\n",
    "    \n",
    "    return df"
   ]
  },
  {
   "cell_type": "markdown",
   "id": "85a64de2",
   "metadata": {},
   "source": [
    "Возвращает датафрейм с признаком - время суток"
   ]
  },
  {
   "cell_type": "code",
   "execution_count": 46,
   "id": "8be6f0e8",
   "metadata": {},
   "outputs": [],
   "source": [
    "def hour_of_day(df):\n",
    "    df = df.copy()\n",
    "    \n",
    "    df['pickup_hour'] = data_train['pickup_datetime'].apply(lambda x: x.hour)\n",
    "    \n",
    "    return df"
   ]
  },
  {
   "cell_type": "markdown",
   "id": "88e5b514",
   "metadata": {},
   "source": [
    "### Обучение на новых признаках с выбросами"
   ]
  },
  {
   "cell_type": "code",
   "execution_count": 47,
   "id": "9a50d5ed",
   "metadata": {},
   "outputs": [],
   "source": [
    "data_train = pd.read_csv('../nyc-taxi-trip-duration/train.csv')\n",
    "\n",
    "data_train,y = first_preprocessing(data_train)\n",
    "data_train = distance(data_train)\n",
    "data_train = day_of_week(data_train)\n",
    "data_train = day_of_month(data_train)\n",
    "data_train = hour_of_day(data_train)\n",
    "data_train = month(data_train)"
   ]
  },
  {
   "cell_type": "code",
   "execution_count": 48,
   "id": "cb011ab4",
   "metadata": {},
   "outputs": [
    {
     "data": {
      "text/html": [
       "<div>\n",
       "<style scoped>\n",
       "    .dataframe tbody tr th:only-of-type {\n",
       "        vertical-align: middle;\n",
       "    }\n",
       "\n",
       "    .dataframe tbody tr th {\n",
       "        vertical-align: top;\n",
       "    }\n",
       "\n",
       "    .dataframe thead th {\n",
       "        text-align: right;\n",
       "    }\n",
       "</style>\n",
       "<table border=\"1\" class=\"dataframe\">\n",
       "  <thead>\n",
       "    <tr style=\"text-align: right;\">\n",
       "      <th></th>\n",
       "      <th>vendor_id</th>\n",
       "      <th>pickup_datetime</th>\n",
       "      <th>passenger_count</th>\n",
       "      <th>store_and_fwd_flag</th>\n",
       "      <th>distance</th>\n",
       "      <th>pickup_day_of_the_week</th>\n",
       "      <th>pickup_day</th>\n",
       "      <th>pickup_hour</th>\n",
       "      <th>pickup_month</th>\n",
       "    </tr>\n",
       "  </thead>\n",
       "  <tbody>\n",
       "    <tr>\n",
       "      <th>0</th>\n",
       "      <td>2</td>\n",
       "      <td>2016-03-14 17:24:55</td>\n",
       "      <td>1</td>\n",
       "      <td>N</td>\n",
       "      <td>0.915699</td>\n",
       "      <td>Monday</td>\n",
       "      <td>14</td>\n",
       "      <td>17</td>\n",
       "      <td>3</td>\n",
       "    </tr>\n",
       "    <tr>\n",
       "      <th>1</th>\n",
       "      <td>1</td>\n",
       "      <td>2016-06-12 00:43:35</td>\n",
       "      <td>1</td>\n",
       "      <td>N</td>\n",
       "      <td>1.031584</td>\n",
       "      <td>Sunday</td>\n",
       "      <td>12</td>\n",
       "      <td>0</td>\n",
       "      <td>6</td>\n",
       "    </tr>\n",
       "    <tr>\n",
       "      <th>2</th>\n",
       "      <td>2</td>\n",
       "      <td>2016-01-19 11:35:24</td>\n",
       "      <td>1</td>\n",
       "      <td>N</td>\n",
       "      <td>1.999464</td>\n",
       "      <td>Tuesday</td>\n",
       "      <td>19</td>\n",
       "      <td>11</td>\n",
       "      <td>1</td>\n",
       "    </tr>\n",
       "    <tr>\n",
       "      <th>3</th>\n",
       "      <td>2</td>\n",
       "      <td>2016-04-06 19:32:31</td>\n",
       "      <td>1</td>\n",
       "      <td>N</td>\n",
       "      <td>0.910473</td>\n",
       "      <td>Wednesday</td>\n",
       "      <td>6</td>\n",
       "      <td>19</td>\n",
       "      <td>4</td>\n",
       "    </tr>\n",
       "    <tr>\n",
       "      <th>4</th>\n",
       "      <td>2</td>\n",
       "      <td>2016-03-26 13:30:55</td>\n",
       "      <td>1</td>\n",
       "      <td>N</td>\n",
       "      <td>0.783257</td>\n",
       "      <td>Saturday</td>\n",
       "      <td>26</td>\n",
       "      <td>13</td>\n",
       "      <td>3</td>\n",
       "    </tr>\n",
       "  </tbody>\n",
       "</table>\n",
       "</div>"
      ],
      "text/plain": [
       "   vendor_id     pickup_datetime  passenger_count store_and_fwd_flag  \\\n",
       "0          2 2016-03-14 17:24:55                1                  N   \n",
       "1          1 2016-06-12 00:43:35                1                  N   \n",
       "2          2 2016-01-19 11:35:24                1                  N   \n",
       "3          2 2016-04-06 19:32:31                1                  N   \n",
       "4          2 2016-03-26 13:30:55                1                  N   \n",
       "\n",
       "   distance pickup_day_of_the_week  pickup_day  pickup_hour  pickup_month  \n",
       "0  0.915699                 Monday          14           17             3  \n",
       "1  1.031584                 Sunday          12            0             6  \n",
       "2  1.999464                Tuesday          19           11             1  \n",
       "3  0.910473              Wednesday           6           19             4  \n",
       "4  0.783257               Saturday          26           13             3  "
      ]
     },
     "execution_count": 48,
     "metadata": {},
     "output_type": "execute_result"
    }
   ],
   "source": [
    "data_train.head()"
   ]
  },
  {
   "cell_type": "code",
   "execution_count": 49,
   "id": "38a24899",
   "metadata": {},
   "outputs": [
    {
     "data": {
      "text/plain": [
       "vendor_id                          int64\n",
       "pickup_datetime           datetime64[ns]\n",
       "passenger_count                    int64\n",
       "store_and_fwd_flag                object\n",
       "distance                         float64\n",
       "pickup_day_of_the_week            object\n",
       "pickup_day                         int64\n",
       "pickup_hour                        int64\n",
       "pickup_month                       int64\n",
       "dtype: object"
      ]
     },
     "execution_count": 49,
     "metadata": {},
     "output_type": "execute_result"
    }
   ],
   "source": [
    "data_train.dtypes"
   ]
  },
  {
   "cell_type": "code",
   "execution_count": 50,
   "id": "2580382b",
   "metadata": {},
   "outputs": [],
   "source": [
    "numeric, categorical = get_numeric_categorical_features(data_train)"
   ]
  },
  {
   "cell_type": "code",
   "execution_count": 51,
   "id": "ef118b5c",
   "metadata": {},
   "outputs": [],
   "source": [
    "x_train, x_test, y_train, y_test = train_test_split(data_train, y, train_size = 0.7, random_state = 10)"
   ]
  },
  {
   "cell_type": "code",
   "execution_count": 52,
   "id": "ba348054",
   "metadata": {},
   "outputs": [
    {
     "data": {
      "text/plain": [
       "array([[ 1.        ,  0.        ,  0.        , ...,  0.86108062,\n",
       "        -2.12598065, -1.49981269],\n",
       "       [ 1.        ,  0.        ,  0.        , ..., -0.63215206,\n",
       "         0.84283208, -0.90475907],\n",
       "       [ 1.        ,  0.        ,  0.        , ..., -0.40242396,\n",
       "        -1.18846084,  0.88040179],\n",
       "       ...,\n",
       "       [ 1.        ,  0.        ,  0.        , ..., -1.55106448,\n",
       "        -0.71970094,  0.88040179],\n",
       "       [ 1.        ,  0.        ,  0.        , ..., -1.09160827,\n",
       "        -0.71970094,  0.28534817],\n",
       "       [ 1.        ,  0.        ,  0.        , ...,  0.17189631,\n",
       "         0.37407218, -0.30970545]])"
      ]
     },
     "execution_count": 52,
     "metadata": {},
     "output_type": "execute_result"
    }
   ],
   "source": [
    "column_transformer = make_column_transformer((OneHotEncoder(), categorical), (StandardScaler(), numeric))\n",
    "column_transformer.fit_transform(x_train)\n",
    "column_transformer.fit_transform(x_test)"
   ]
  },
  {
   "cell_type": "code",
   "execution_count": 53,
   "id": "b220b9ae",
   "metadata": {},
   "outputs": [
    {
     "name": "stdout",
     "output_type": "stream",
     "text": [
      "LinearRegression()\n",
      "mse = 0.2689\n",
      "rmse = 0.5185\n",
      "mae = 0.3672\n",
      "Lasso()\n",
      "mse = 0.6309\n",
      "rmse = 0.7943\n",
      "mae = 0.6049\n",
      "Ridge()\n",
      "mse = 0.2689\n",
      "rmse = 0.5185\n",
      "mae = 0.3672\n"
     ]
    }
   ],
   "source": [
    "for model in [LinearRegression(), Lasso(), Ridge()]:\n",
    "    pipe = make_pipeline(column_transformer, model)\n",
    "    pipe.fit(x_train, y_train)\n",
    "    y_pred = pipe.predict(x_test)\n",
    "    print(model)\n",
    "    print('mse = %.4f' %mean_squared_error(y_test, y_pred))\n",
    "    print('rmse = %.4f' %mean_squared_error(y_test, y_pred, squared = False))\n",
    "    print('mae = %.4f' %mean_absolute_error(y_test, y_pred))"
   ]
  },
  {
   "cell_type": "markdown",
   "id": "0a322e18",
   "metadata": {},
   "source": [
    "Результат на моделях линейной регрессии и модели с l2 регуляризацией значительно улучшился по сравнению с обучением на сырых данных. l1 регуляризация по прежнему имеет плохие показатели."
   ]
  },
  {
   "cell_type": "markdown",
   "id": "b5986e85",
   "metadata": {},
   "source": [
    "### Удаление выбросов"
   ]
  },
  {
   "cell_type": "code",
   "execution_count": 54,
   "id": "0fa7a184",
   "metadata": {},
   "outputs": [],
   "source": [
    "data_train = pd.read_csv('../nyc-taxi-trip-duration/train.csv')"
   ]
  },
  {
   "cell_type": "code",
   "execution_count": 55,
   "id": "61e206a7",
   "metadata": {},
   "outputs": [
    {
     "data": {
      "text/plain": [
       "(1458644, 11)"
      ]
     },
     "execution_count": 55,
     "metadata": {},
     "output_type": "execute_result"
    }
   ],
   "source": [
    "data_train.shape"
   ]
  },
  {
   "cell_type": "markdown",
   "id": "084a2ec3",
   "metadata": {},
   "source": [
    "Удаляем слишком длительные поездки"
   ]
  },
  {
   "cell_type": "code",
   "execution_count": 56,
   "id": "75dfbb8b",
   "metadata": {},
   "outputs": [],
   "source": [
    "data_train = data_train.drop(data_train[data_train['trip_duration'] > 20000].index)"
   ]
  },
  {
   "cell_type": "code",
   "execution_count": 57,
   "id": "1dc43cbc",
   "metadata": {},
   "outputs": [
    {
     "data": {
      "text/plain": [
       "(1456576, 11)"
      ]
     },
     "execution_count": 57,
     "metadata": {},
     "output_type": "execute_result"
    }
   ],
   "source": [
    "data_train.shape"
   ]
  },
  {
   "cell_type": "markdown",
   "id": "82c79dab",
   "metadata": {},
   "source": [
    "Удаляем записи дни, когда был режим ЧС"
   ]
  },
  {
   "cell_type": "code",
   "execution_count": 58,
   "id": "af9a5de4",
   "metadata": {},
   "outputs": [
    {
     "name": "stderr",
     "output_type": "stream",
     "text": [
      "C:\\Users\\serec\\anaconda3\\lib\\site-packages\\pandas\\core\\ops\\array_ops.py:73: FutureWarning: Comparison of Timestamp with datetime.date is deprecated in order to match the standard library behavior.  In a future version these will be considered non-comparable.Use 'ts == pd.Timestamp(date)' or 'ts.date() == date' instead.\n",
      "  result = libops.scalar_compare(x.ravel(), y, op)\n"
     ]
    }
   ],
   "source": [
    "data_train['date'] = pd.to_datetime(data_train['pickup_datetime']).dt.date\n",
    "data_train = data_train.drop(data_train[data_train['date'] == pd.to_datetime('2016-01-23')].index)\n",
    "data_train = data_train.drop(data_train[data_train['date'] == pd.to_datetime('2016-01-24')].index)\n",
    "data_train = data_train.drop(columns = ['date'])"
   ]
  },
  {
   "cell_type": "code",
   "execution_count": 59,
   "id": "b8556a23",
   "metadata": {},
   "outputs": [
    {
     "data": {
      "text/plain": [
       "(1451556, 11)"
      ]
     },
     "execution_count": 59,
     "metadata": {},
     "output_type": "execute_result"
    }
   ],
   "source": [
    "data_train.shape"
   ]
  },
  {
   "cell_type": "markdown",
   "id": "c4657dd5",
   "metadata": {},
   "source": [
    "### Обучение на данных без выбросов и с новыми признаками"
   ]
  },
  {
   "cell_type": "code",
   "execution_count": 60,
   "id": "855c6bf3",
   "metadata": {},
   "outputs": [],
   "source": [
    "data_train,y = first_preprocessing(data_train)\n",
    "data_train = distance(data_train)\n",
    "data_train = day_of_week(data_train)\n",
    "data_train = day_of_month(data_train)\n",
    "data_train = hour_of_day(data_train)\n",
    "data_train = month(data_train)"
   ]
  },
  {
   "cell_type": "code",
   "execution_count": 61,
   "id": "2d2bd9fe",
   "metadata": {},
   "outputs": [],
   "source": [
    "data_train = data_train.drop(columns = ['pickup_datetime'])"
   ]
  },
  {
   "cell_type": "code",
   "execution_count": 62,
   "id": "67044cc6",
   "metadata": {},
   "outputs": [
    {
     "data": {
      "text/html": [
       "<div>\n",
       "<style scoped>\n",
       "    .dataframe tbody tr th:only-of-type {\n",
       "        vertical-align: middle;\n",
       "    }\n",
       "\n",
       "    .dataframe tbody tr th {\n",
       "        vertical-align: top;\n",
       "    }\n",
       "\n",
       "    .dataframe thead th {\n",
       "        text-align: right;\n",
       "    }\n",
       "</style>\n",
       "<table border=\"1\" class=\"dataframe\">\n",
       "  <thead>\n",
       "    <tr style=\"text-align: right;\">\n",
       "      <th></th>\n",
       "      <th>vendor_id</th>\n",
       "      <th>passenger_count</th>\n",
       "      <th>store_and_fwd_flag</th>\n",
       "      <th>distance</th>\n",
       "      <th>pickup_day_of_the_week</th>\n",
       "      <th>pickup_day</th>\n",
       "      <th>pickup_hour</th>\n",
       "      <th>pickup_month</th>\n",
       "    </tr>\n",
       "  </thead>\n",
       "  <tbody>\n",
       "    <tr>\n",
       "      <th>0</th>\n",
       "      <td>2</td>\n",
       "      <td>1</td>\n",
       "      <td>N</td>\n",
       "      <td>0.915699</td>\n",
       "      <td>Monday</td>\n",
       "      <td>14</td>\n",
       "      <td>17</td>\n",
       "      <td>3</td>\n",
       "    </tr>\n",
       "    <tr>\n",
       "      <th>1</th>\n",
       "      <td>1</td>\n",
       "      <td>1</td>\n",
       "      <td>N</td>\n",
       "      <td>1.031584</td>\n",
       "      <td>Sunday</td>\n",
       "      <td>12</td>\n",
       "      <td>0</td>\n",
       "      <td>6</td>\n",
       "    </tr>\n",
       "    <tr>\n",
       "      <th>2</th>\n",
       "      <td>2</td>\n",
       "      <td>1</td>\n",
       "      <td>N</td>\n",
       "      <td>1.999464</td>\n",
       "      <td>Tuesday</td>\n",
       "      <td>19</td>\n",
       "      <td>11</td>\n",
       "      <td>1</td>\n",
       "    </tr>\n",
       "    <tr>\n",
       "      <th>3</th>\n",
       "      <td>2</td>\n",
       "      <td>1</td>\n",
       "      <td>N</td>\n",
       "      <td>0.910473</td>\n",
       "      <td>Wednesday</td>\n",
       "      <td>6</td>\n",
       "      <td>19</td>\n",
       "      <td>4</td>\n",
       "    </tr>\n",
       "    <tr>\n",
       "      <th>4</th>\n",
       "      <td>2</td>\n",
       "      <td>1</td>\n",
       "      <td>N</td>\n",
       "      <td>0.783257</td>\n",
       "      <td>Saturday</td>\n",
       "      <td>26</td>\n",
       "      <td>13</td>\n",
       "      <td>3</td>\n",
       "    </tr>\n",
       "  </tbody>\n",
       "</table>\n",
       "</div>"
      ],
      "text/plain": [
       "   vendor_id  passenger_count store_and_fwd_flag  distance  \\\n",
       "0          2                1                  N  0.915699   \n",
       "1          1                1                  N  1.031584   \n",
       "2          2                1                  N  1.999464   \n",
       "3          2                1                  N  0.910473   \n",
       "4          2                1                  N  0.783257   \n",
       "\n",
       "  pickup_day_of_the_week  pickup_day  pickup_hour  pickup_month  \n",
       "0                 Monday          14           17             3  \n",
       "1                 Sunday          12            0             6  \n",
       "2                Tuesday          19           11             1  \n",
       "3              Wednesday           6           19             4  \n",
       "4               Saturday          26           13             3  "
      ]
     },
     "execution_count": 62,
     "metadata": {},
     "output_type": "execute_result"
    }
   ],
   "source": [
    "data_train.head()"
   ]
  },
  {
   "cell_type": "code",
   "execution_count": 63,
   "id": "81ded80d",
   "metadata": {},
   "outputs": [
    {
     "data": {
      "text/plain": [
       "array([[ 1.        ,  0.        ,  0.        , ...,  1.20775633,\n",
       "        -0.09758844,  1.47267935],\n",
       "       [ 1.        ,  0.        ,  0.        , ...,  1.32265327,\n",
       "        -0.8798477 , -1.50494682],\n",
       "       [ 1.        ,  0.        ,  1.        , ..., -1.43487349,\n",
       "        -1.34920325,  1.47267935],\n",
       "       ...,\n",
       "       [ 1.        ,  0.        ,  0.        , ..., -0.40080095,\n",
       "         0.99757451,  1.47267935],\n",
       "       [ 1.        ,  0.        ,  0.        , ...,  1.43755022,\n",
       "         1.46693006,  0.87715412],\n",
       "       [ 1.        ,  0.        ,  0.        , ..., -0.86038875,\n",
       "         0.84112266,  0.87715412]])"
      ]
     },
     "execution_count": 63,
     "metadata": {},
     "output_type": "execute_result"
    }
   ],
   "source": [
    "numeric, categorical = get_numeric_categorical_features(data_train)\n",
    "x_train, x_test, y_train, y_test = train_test_split(data_train, y, train_size = 0.7, random_state = 10)\n",
    "column_transformer = make_column_transformer((OneHotEncoder(), categorical), (StandardScaler(), numeric))\n",
    "column_transformer.fit_transform(x_train)\n",
    "column_transformer.fit_transform(x_test)"
   ]
  },
  {
   "cell_type": "code",
   "execution_count": 64,
   "id": "56220d5b",
   "metadata": {},
   "outputs": [
    {
     "name": "stdout",
     "output_type": "stream",
     "text": [
      "LinearRegression()\n",
      "mse = 0.2365\n",
      "rmse = 0.4863\n",
      "mae = 0.3610\n",
      "Lasso()\n",
      "mse = 0.5989\n",
      "rmse = 0.7739\n",
      "mae = 0.5993\n",
      "Ridge()\n",
      "mse = 0.2365\n",
      "rmse = 0.4863\n",
      "mae = 0.3610\n"
     ]
    }
   ],
   "source": [
    "for model in [LinearRegression(), Lasso(), Ridge()]:\n",
    "    pipe = make_pipeline(column_transformer, model)\n",
    "    pipe.fit(x_train, y_train)\n",
    "    y_pred = pipe.predict(x_test)\n",
    "    print(model)\n",
    "    print('mse = %.4f' %mean_squared_error(y_test, y_pred))\n",
    "    print('rmse = %.4f' %mean_squared_error(y_test, y_pred, squared = False))\n",
    "    print('mae = %.4f' %mean_absolute_error(y_test, y_pred))"
   ]
  },
  {
   "cell_type": "markdown",
   "id": "4e3beb12",
   "metadata": {},
   "source": [
    "Получилось еще уменьшить ошибку в модели линейной регрессии и модели с l2 регуляризацией. Ожидаемо l1 регуляризация показывает плохой результат. Заметим, что LinearRegression и Ridge ведут себя одинаково"
   ]
  },
  {
   "cell_type": "markdown",
   "id": "62eaff5b",
   "metadata": {},
   "source": [
    "### Подбор гиперпараметров"
   ]
  },
  {
   "cell_type": "code",
   "execution_count": 65,
   "id": "bfcb4de7",
   "metadata": {},
   "outputs": [],
   "source": [
    "from sklearn.pipeline import Pipeline\n",
    "from sklearn.model_selection import GridSearchCV"
   ]
  },
  {
   "cell_type": "code",
   "execution_count": 66,
   "id": "df094c84",
   "metadata": {},
   "outputs": [
    {
     "data": {
      "text/plain": [
       "ColumnTransformer(remainder='passthrough',\n",
       "                  transformers=[('ohe', OneHotEncoder(),\n",
       "                                 ['store_and_fwd_flag',\n",
       "                                  'pickup_day_of_the_week']),\n",
       "                                ('ss', StandardScaler(),\n",
       "                                 ['vendor_id', 'passenger_count', 'distance',\n",
       "                                  'pickup_day', 'pickup_hour',\n",
       "                                  'pickup_month'])])"
      ]
     },
     "execution_count": 66,
     "metadata": {},
     "output_type": "execute_result"
    }
   ],
   "source": [
    "ct = ColumnTransformer([('ohe', OneHotEncoder(), categorical), ('ss', StandardScaler(), numeric)], remainder = 'passthrough')\n",
    "ct.fit(x_train)"
   ]
  },
  {
   "cell_type": "code",
   "execution_count": 67,
   "id": "cdcdc495",
   "metadata": {},
   "outputs": [
    {
     "data": {
      "text/plain": [
       "ColumnTransformer(remainder='passthrough',\n",
       "                  transformers=[('ohe', OneHotEncoder(),\n",
       "                                 ['store_and_fwd_flag',\n",
       "                                  'pickup_day_of_the_week']),\n",
       "                                ('ss', StandardScaler(),\n",
       "                                 ['vendor_id', 'passenger_count', 'distance',\n",
       "                                  'pickup_day', 'pickup_hour',\n",
       "                                  'pickup_month'])])"
      ]
     },
     "execution_count": 67,
     "metadata": {},
     "output_type": "execute_result"
    }
   ],
   "source": [
    "ColumnTransformer(remainder='passthrough',\n",
    "                  transformers=[('ohe', OneHotEncoder(),\n",
    "                                 ['store_and_fwd_flag',\n",
    "                                  'pickup_day_of_the_week']),\n",
    "                                ('ss', StandardScaler(),\n",
    "                                 ['vendor_id', 'passenger_count', 'distance',\n",
    "                                  'pickup_day', 'pickup_hour',\n",
    "                                  'pickup_month'])])"
   ]
  },
  {
   "cell_type": "code",
   "execution_count": 68,
   "id": "a4856773",
   "metadata": {},
   "outputs": [],
   "source": [
    "pipe = Pipeline([('ct', ct), ('model', Ridge())])"
   ]
  },
  {
   "cell_type": "code",
   "execution_count": 69,
   "id": "a10829be",
   "metadata": {},
   "outputs": [],
   "source": [
    "alphas = np.logspace(-2,4, 20)\n",
    "params = {\n",
    "    'model__alpha' : alphas\n",
    "}"
   ]
  },
  {
   "cell_type": "code",
   "execution_count": 70,
   "id": "d0439a8b",
   "metadata": {},
   "outputs": [
    {
     "data": {
      "text/plain": [
       "GridSearchCV(cv=5,\n",
       "             estimator=Pipeline(steps=[('ct',\n",
       "                                        ColumnTransformer(remainder='passthrough',\n",
       "                                                          transformers=[('ohe',\n",
       "                                                                         OneHotEncoder(),\n",
       "                                                                         ['store_and_fwd_flag',\n",
       "                                                                          'pickup_day_of_the_week']),\n",
       "                                                                        ('ss',\n",
       "                                                                         StandardScaler(),\n",
       "                                                                         ['vendor_id',\n",
       "                                                                          'passenger_count',\n",
       "                                                                          'distance',\n",
       "                                                                          'pickup_day',\n",
       "                                                                          'pickup_hour',\n",
       "                                                                          'pickup_month'])])),\n",
       "                                       ('model', Ridge())]),\n",
       "             param_grid={'model__alpha': array([1.00000000e-02, 2.06913808e-02, 4.28133240e-02, 8.85866790e-02,\n",
       "       1.83298071e-01, 3.79269019e-01, 7.84759970e-01, 1.62377674e+00,\n",
       "       3.35981829e+00, 6.95192796e+00, 1.43844989e+01, 2.97635144e+01,\n",
       "       6.15848211e+01, 1.27427499e+02, 2.63665090e+02, 5.45559478e+02,\n",
       "       1.12883789e+03, 2.33572147e+03, 4.83293024e+03, 1.00000000e+04])},\n",
       "             scoring='neg_mean_squared_error')"
      ]
     },
     "execution_count": 70,
     "metadata": {},
     "output_type": "execute_result"
    }
   ],
   "source": [
    "gs = GridSearchCV(pipe, params, cv = 5, scoring = 'neg_mean_squared_error')\n",
    "gs.fit(x_train, y_train)"
   ]
  },
  {
   "cell_type": "code",
   "execution_count": 71,
   "id": "65e8d4b3",
   "metadata": {},
   "outputs": [
    {
     "name": "stdout",
     "output_type": "stream",
     "text": [
      "Best alpha 61.5848\n",
      "Best score 0.2384\n"
     ]
    },
    {
     "data": {
      "text/plain": [
       "Text(0, 0.5, 'CV score')"
      ]
     },
     "execution_count": 71,
     "metadata": {},
     "output_type": "execute_result"
    },
    {
     "data": {
      "image/png": "[encoded data removed]",
      "text/plain": [
       "<Figure size 432x288 with 1 Axes>"
      ]
     },
     "metadata": {
      "needs_background": "light"
     },
     "output_type": "display_data"
    }
   ],
   "source": [
    "best_alpha = gs.best_params_['model__alpha']\n",
    "best_score = gs.best_score_\n",
    "print(\"Best alpha %.4f\" %best_alpha)\n",
    "print(\"Best score %.4f\" % -best_score)\n",
    "\n",
    "plt.plot(alphas, -gs.cv_results_[\"mean_test_score\"])\n",
    "plt.xscale(\"log\")\n",
    "plt.xlabel(\"alpha\")\n",
    "plt.ylabel(\"CV score\")"
   ]
  },
  {
   "cell_type": "code",
   "execution_count": 72,
   "id": "79a594ff",
   "metadata": {},
   "outputs": [],
   "source": [
    "y_pred = gs.predict(x_test)"
   ]
  },
  {
   "cell_type": "code",
   "execution_count": 73,
   "id": "b5fb1103",
   "metadata": {},
   "outputs": [
    {
     "data": {
      "text/plain": [
       "0.23647238404094037"
      ]
     },
     "execution_count": 73,
     "metadata": {},
     "output_type": "execute_result"
    }
   ],
   "source": [
    "mean_squared_error(y_test, y_pred)\n"
   ]
  },
  {
   "cell_type": "code",
   "execution_count": 74,
   "id": "167c52b2",
   "metadata": {},
   "outputs": [
    {
     "data": {
      "text/plain": [
       "0.36099602033719946"
      ]
     },
     "execution_count": 74,
     "metadata": {},
     "output_type": "execute_result"
    }
   ],
   "source": [
    "mean_absolute_error(y_test, y_pred)"
   ]
  },
  {
   "cell_type": "code",
   "execution_count": 75,
   "id": "7df98be8",
   "metadata": {},
   "outputs": [
    {
     "data": {
      "text/plain": [
       "0.4862842625881907"
      ]
     },
     "execution_count": 75,
     "metadata": {},
     "output_type": "execute_result"
    }
   ],
   "source": [
    "mean_squared_error(y_test, y_pred, squared = False)"
   ]
  },
  {
   "cell_type": "markdown",
   "id": "6c797b3d",
   "metadata": {},
   "source": [
    "### Random Forest"
   ]
  },
  {
   "cell_type": "code",
   "execution_count": 76,
   "id": "e383d942",
   "metadata": {},
   "outputs": [],
   "source": [
    "from sklearn.ensemble import RandomForestRegressor"
   ]
  },
  {
   "cell_type": "code",
   "execution_count": 77,
   "id": "c3a6c83a",
   "metadata": {},
   "outputs": [],
   "source": [
    "ct = ColumnTransformer([('ohe', OneHotEncoder(), categorical), ('ss', StandardScaler(), numeric)])\n",
    "pipe = Pipeline([('ct', ct),('model', RandomForestRegressor(n_estimators = 10))]) "
   ]
  },
  {
   "cell_type": "code",
   "execution_count": 78,
   "id": "33986b6c",
   "metadata": {},
   "outputs": [
    {
     "data": {
      "text/plain": [
       "Pipeline(steps=[('ct',\n",
       "                 ColumnTransformer(transformers=[('ohe', OneHotEncoder(),\n",
       "                                                  ['store_and_fwd_flag',\n",
       "                                                   'pickup_day_of_the_week']),\n",
       "                                                 ('ss', StandardScaler(),\n",
       "                                                  ['vendor_id',\n",
       "                                                   'passenger_count',\n",
       "                                                   'distance', 'pickup_day',\n",
       "                                                   'pickup_hour',\n",
       "                                                   'pickup_month'])])),\n",
       "                ('model', RandomForestRegressor(n_estimators=10))])"
      ]
     },
     "execution_count": 78,
     "metadata": {},
     "output_type": "execute_result"
    }
   ],
   "source": [
    "pipe.fit(x_train, y_train)"
   ]
  },
  {
   "cell_type": "code",
   "execution_count": 79,
   "id": "bbdd74ff",
   "metadata": {},
   "outputs": [],
   "source": [
    "y_pred = pipe.predict(x_test)"
   ]
  },
  {
   "cell_type": "code",
   "execution_count": 80,
   "id": "087d1129",
   "metadata": {},
   "outputs": [
    {
     "data": {
      "text/plain": [
       "0.21237391466430947"
      ]
     },
     "execution_count": 80,
     "metadata": {},
     "output_type": "execute_result"
    }
   ],
   "source": [
    "mean_squared_error(y_test, y_pred)"
   ]
  },
  {
   "cell_type": "code",
   "execution_count": 81,
   "id": "986e23bd",
   "metadata": {},
   "outputs": [
    {
     "data": {
      "text/plain": [
       "0.46084044382444284"
      ]
     },
     "execution_count": 81,
     "metadata": {},
     "output_type": "execute_result"
    }
   ],
   "source": [
    "mean_squared_error(y_test, y_pred, squared = False)"
   ]
  },
  {
   "cell_type": "code",
   "execution_count": 82,
   "id": "34d66acd",
   "metadata": {},
   "outputs": [
    {
     "data": {
      "text/plain": [
       "0.3365528135290374"
      ]
     },
     "execution_count": 82,
     "metadata": {},
     "output_type": "execute_result"
    }
   ],
   "source": [
    "mean_absolute_error(y_test, y_pred)"
   ]
  },
  {
   "cell_type": "markdown",
   "id": "3126502b",
   "metadata": {},
   "source": [
    "В среднем ошибка равна 4 минутам. то есть удалось уменьшить ошибку на 5.5 минут"
   ]
  },
  {
   "cell_type": "code",
   "execution_count": 83,
   "id": "8e051621",
   "metadata": {},
   "outputs": [],
   "source": [
    "time_test = np.exp(y_test)-1\n",
    "time_pred = np.exp(y_pred)-1"
   ]
  },
  {
   "cell_type": "code",
   "execution_count": 84,
   "id": "e64e5782",
   "metadata": {},
   "outputs": [
    {
     "data": {
      "text/plain": [
       "242.209875517631"
      ]
     },
     "execution_count": 84,
     "metadata": {},
     "output_type": "execute_result"
    }
   ],
   "source": [
    "mean_absolute_error(time_test, time_pred)"
   ]
  },
  {
   "cell_type": "code",
   "execution_count": 85,
   "id": "7daaa748",
   "metadata": {},
   "outputs": [
    {
     "data": {
      "text/plain": [
       "375.4501301960089"
      ]
     },
     "execution_count": 85,
     "metadata": {},
     "output_type": "execute_result"
    }
   ],
   "source": [
    "mean_squared_error(time_test, time_pred, squared = False)"
   ]
  },
  {
   "cell_type": "markdown",
   "id": "9375fd5c",
   "metadata": {},
   "source": [
    "### Gradient Boosting"
   ]
  },
  {
   "cell_type": "code",
   "execution_count": 86,
   "id": "81cdc89a",
   "metadata": {},
   "outputs": [],
   "source": [
    "import xgboost as xgb"
   ]
  },
  {
   "cell_type": "code",
   "execution_count": 87,
   "id": "4d771bd6",
   "metadata": {},
   "outputs": [
    {
     "data": {
      "text/plain": [
       "array([[ 1.        ,  0.        ,  0.        , ..., -0.51352404,\n",
       "         1.31221379,  1.47631182],\n",
       "       [ 1.        ,  0.        ,  0.        , ...,  1.55421498,\n",
       "         0.21807562, -0.90943349],\n",
       "       [ 1.        ,  0.        ,  0.        , ..., -0.74327282,\n",
       "        -1.50128436, -1.50586982],\n",
       "       ...,\n",
       "       [ 1.        ,  0.        ,  0.        , ..., -1.66226794,\n",
       "         0.06177017, -0.31299716],\n",
       "       [ 1.        ,  0.        ,  0.        , ..., -1.08789599,\n",
       "         0.68699198, -0.90943349],\n",
       "       [ 1.        ,  0.        ,  1.        , ..., -0.85814721,\n",
       "         0.06177017, -1.50586982]])"
      ]
     },
     "execution_count": 87,
     "metadata": {},
     "output_type": "execute_result"
    }
   ],
   "source": [
    "ct = ColumnTransformer([('ohe', OneHotEncoder(), categorical), ('ss', StandardScaler(), numeric)], remainder = 'passthrough')\n",
    "ct.fit_transform(x_train)"
   ]
  },
  {
   "cell_type": "code",
   "execution_count": 88,
   "id": "16df9e8f",
   "metadata": {},
   "outputs": [
    {
     "data": {
      "text/plain": [
       "Pipeline(steps=[('ct',\n",
       "                 ColumnTransformer(remainder='passthrough',\n",
       "                                   transformers=[('ohe', OneHotEncoder(),\n",
       "                                                  ['store_and_fwd_flag',\n",
       "                                                   'pickup_day_of_the_week']),\n",
       "                                                 ('ss', StandardScaler(),\n",
       "                                                  ['vendor_id',\n",
       "                                                   'passenger_count',\n",
       "                                                   'distance', 'pickup_day',\n",
       "                                                   'pickup_hour',\n",
       "                                                   'pickup_month'])])),\n",
       "                ('model',\n",
       "                 XGBRegressor(base_score=0.5, booster='gbtree',\n",
       "                              colsample_bylevel=1, colsample_byno...\n",
       "                              gamma=0, gpu_id=-1, importance_type=None,\n",
       "                              interaction_constraints='',\n",
       "                              learning_rate=0.300000012, max_delta_step=0,\n",
       "                              max_depth=6, min_child_weight=1, missing=nan,\n",
       "                              monotone_constraints='()', n_estimators=120,\n",
       "                              n_jobs=8, num_parallel_tree=1, predictor='auto',\n",
       "                              random_state=0, reg_alpha=0, reg_lambda=1,\n",
       "                              scale_pos_weight=1, subsample=1,\n",
       "                              tree_method='exact', validate_parameters=1,\n",
       "                              verbosity=None))])"
      ]
     },
     "execution_count": 88,
     "metadata": {},
     "output_type": "execute_result"
    }
   ],
   "source": [
    "model = xgb.XGBRegressor(n_estimators = 120)\n",
    "pipe = Pipeline([('ct', ct),('model', model)])\n",
    "pipe.fit(x_train, y_train, model__eval_metric = 'mae')"
   ]
  },
  {
   "cell_type": "code",
   "execution_count": 89,
   "id": "a7cca98f",
   "metadata": {},
   "outputs": [],
   "source": [
    "y_pred = pipe.predict(x_test)"
   ]
  },
  {
   "cell_type": "code",
   "execution_count": 90,
   "id": "177065d9",
   "metadata": {},
   "outputs": [
    {
     "data": {
      "text/plain": [
       "0.17701194354663383"
      ]
     },
     "execution_count": 90,
     "metadata": {},
     "output_type": "execute_result"
    }
   ],
   "source": [
    "mean_squared_error(y_test, y_pred)"
   ]
  },
  {
   "cell_type": "code",
   "execution_count": 91,
   "id": "8acae5dd",
   "metadata": {},
   "outputs": [
    {
     "data": {
      "text/plain": [
       "0.4207278735080834"
      ]
     },
     "execution_count": 91,
     "metadata": {},
     "output_type": "execute_result"
    }
   ],
   "source": [
    "mean_squared_error(y_test, y_pred, squared = False)"
   ]
  },
  {
   "cell_type": "code",
   "execution_count": 92,
   "id": "efdddc3c",
   "metadata": {},
   "outputs": [
    {
     "data": {
      "text/plain": [
       "0.30531295783704243"
      ]
     },
     "execution_count": 92,
     "metadata": {},
     "output_type": "execute_result"
    }
   ],
   "source": [
    "mean_absolute_error(y_test, y_pred)"
   ]
  },
  {
   "cell_type": "markdown",
   "id": "4f0ec656",
   "metadata": {},
   "source": [
    "###  Обратные преобразования"
   ]
  },
  {
   "cell_type": "code",
   "execution_count": 94,
   "id": "5f665228",
   "metadata": {},
   "outputs": [],
   "source": [
    "time_test = np.exp(y_test)-1\n",
    "time_pred = np.exp(y_pred)-1"
   ]
  },
  {
   "cell_type": "markdown",
   "id": "03c618dc",
   "metadata": {},
   "source": [
    "Удалось достичь ошибки в 3.7 минуты"
   ]
  },
  {
   "cell_type": "code",
   "execution_count": 97,
   "id": "319e0d5a",
   "metadata": {},
   "outputs": [
    {
     "data": {
      "text/plain": [
       "220.97487099813773"
      ]
     },
     "execution_count": 97,
     "metadata": {},
     "output_type": "execute_result"
    }
   ],
   "source": [
    "mean_absolute_error(time_test, time_pred)"
   ]
  },
  {
   "cell_type": "markdown",
   "id": "c84cd004",
   "metadata": {},
   "source": [
    "Ошибка rmse = 5.9 минут"
   ]
  },
  {
   "cell_type": "code",
   "execution_count": 98,
   "id": "bf9a409e",
   "metadata": {},
   "outputs": [
    {
     "data": {
      "text/plain": [
       "352.0192849817219"
      ]
     },
     "execution_count": 98,
     "metadata": {},
     "output_type": "execute_result"
    }
   ],
   "source": [
    "mean_squared_error(time_test, time_pred, squared = False)"
   ]
  },
  {
   "cell_type": "markdown",
   "id": "8bc05409",
   "metadata": {},
   "source": [
    "## Выводы"
   ]
  },
  {
   "cell_type": "markdown",
   "id": "dc4c0eaa",
   "metadata": {},
   "source": [
    "Наилучший результат был достигнут с помощью метода градиентного бустинга. Удалось уменьшить ошибку в среднем до 3.6 минут на метрике MAE и до 5.9 минут на метрике RMSE. При этом константные предсказания до обработки данных и выделения признаков были следующими: MAE = 9.5 минут, а RMSE = 87.5 минут (из-за большого количества выбросов)."
   ]
  },
  {
   "cell_type": "code",
   "execution_count": null,
   "id": "404823c6",
   "metadata": {},
   "outputs": [],
   "source": []
  }
 ],
 "metadata": {
  "kernelspec": {
   "display_name": "Python 3 (ipykernel)",
   "language": "python",
   "name": "python3"
  },
  "language_info": {
   "codemirror_mode": {
    "name": "ipython",
    "version": 3
   },
   "file_extension": ".py",
   "mimetype": "text/x-python",
   "name": "python",
   "nbconvert_exporter": "python",
   "pygments_lexer": "ipython3",
   "version": "3.9.7"
  }
 },
 "nbformat": 4,
 "nbformat_minor": 5
}
